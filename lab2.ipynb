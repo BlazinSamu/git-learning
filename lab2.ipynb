{
  "nbformat": 4,
  "nbformat_minor": 0,
  "metadata": {
    "colab": {
      "provenance": [],
      "authorship_tag": "ABX9TyN0ZmeG5VQG7qXNog4YwqJq",
      "include_colab_link": true
    },
    "kernelspec": {
      "name": "python3",
      "display_name": "Python 3"
    },
    "language_info": {
      "name": "python"
    }
  },
  "cells": [
    {
      "cell_type": "markdown",
      "metadata": {
        "id": "view-in-github",
        "colab_type": "text"
      },
      "source": [
        "<a href=\"https://colab.research.google.com/github/BlazinSamu/git-learning/blob/master/lab2.ipynb\" target=\"_parent\"><img src=\"https://colab.research.google.com/assets/colab-badge.svg\" alt=\"Open In Colab\"/></a>"
      ]
    },
    {
      "cell_type": "code",
      "execution_count": null,
      "metadata": {
        "colab": {
          "base_uri": "https://localhost:8080/"
        },
        "id": "x7zBIu9SAN8N",
        "outputId": "355800a4-d44a-4977-a669-673ecea04baa"
      },
      "outputs": [
        {
          "output_type": "stream",
          "name": "stdout",
          "text": [
            "goal found!!\n",
            "solution path: ['a', 'b', 'd', 'g']\n",
            "path cost: 13\n"
          ]
        }
      ],
      "source": [
        "def calcpathcost(path):\n",
        "  pathcost=0\n",
        "  for i in range (1,len(path)):\n",
        "    edge=path[i-1]+path[i]\n",
        "    stepcost=cost[edge]\n",
        "    pathcost=pathcost+stepcost\n",
        "  return pathcost\n",
        "\n",
        "def BFS():\n",
        "  expanded=[]\n",
        "  pathq=[start]\n",
        "  fringe=[start]\n",
        "  while fringe:\n",
        "    node=fringe.pop(0)\n",
        "    path=pathq.pop(0)\n",
        "    if(node==goal):\n",
        "      print(\"goal found!!\")\n",
        "      print(\"solution path:\",path)\n",
        "      pathcost=calcpathcost(path)\n",
        "      print(\"path cost:\",pathcost)\n",
        "      break\n",
        "      #return\n",
        "    #elif node not in expanded:\n",
        "    else:\n",
        "      neighbours=graph[node]\n",
        "      for n in neighbours:\n",
        "        fringe.append(n)\n",
        "        new_path=list(path)\n",
        "        new_path.append(n)\n",
        "        pathq.append(new_path)\n",
        "    expanded.append(node)\n",
        "\n",
        "graph={'a':['b','c'],'b':['c','d','e'],'c':['d','e'],'d':['g'],'e':['d','g']}\n",
        "cost={'ab':5,'ac':2,'bc':6,'bd':2,'be':8,'cd':7,'ce':6,'dg':6,'ed':5,'eg':4}\n",
        "start='a'\n",
        "goal='g'\n",
        "BFS()"
      ]
    }
  ]
}