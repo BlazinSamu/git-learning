{
  "nbformat": 4,
  "nbformat_minor": 0,
  "metadata": {
    "colab": {
      "provenance": [],
      "authorship_tag": "ABX9TyOJGlYfIElsPO9QDU9t+/6C",
      "include_colab_link": true
    },
    "kernelspec": {
      "name": "python3",
      "display_name": "Python 3"
    },
    "language_info": {
      "name": "python"
    }
  },
  "cells": [
    {
      "cell_type": "markdown",
      "metadata": {
        "id": "view-in-github",
        "colab_type": "text"
      },
      "source": [
        "<a href=\"https://colab.research.google.com/github/BlazinSamu/git-learning/blob/master/Untitled0.ipynb\" target=\"_parent\"><img src=\"https://colab.research.google.com/assets/colab-badge.svg\" alt=\"Open In Colab\"/></a>"
      ]
    },
    {
      "cell_type": "code",
      "execution_count": 7,
      "metadata": {
        "colab": {
          "base_uri": "https://localhost:8080/"
        },
        "id": "ZvMDZQKl64Nv",
        "outputId": "5bfc33f1-d912-456a-ce89-9f8efa9d2b63"
      },
      "outputs": [
        {
          "output_type": "stream",
          "name": "stdout",
          "text": [
            "enter number of elements5\n",
            "enter list items:\n",
            "5\n",
            "4\n",
            "3\n",
            "2\n",
            "1\n",
            "list elements ['5', '4', '3', '2', '1']\n",
            "fourth element of the list 2\n",
            "elements from third to last ['3', '2', '1']\n",
            "last element 1\n",
            "enter elements to insert0\n",
            "list elements:\n",
            "length of list 6\n",
            "elements of list: ['5', '4', '3', 0, '2', '1', 8, 9, 4]\n",
            "length of list 9\n"
          ]
        }
      ],
      "source": [
        "#lab 1.1; write a python program to demonstrate different operations\n",
        "mylist=[]\n",
        "n=int(input(\"enter number of elements:\"))\n",
        "print(\"enter list items:\")\n",
        "for i in range (0,n):\n",
        "  e=input()\n",
        "  mylist.append(e);1\n",
        "print(\"list elements:\",mylist)\n",
        "print(\"fourth element of the list:\",mylist[3])\n",
        "print(\"elements from third to last:\",mylist[2:])\n",
        "print(\"last element:\",mylist[-1])\n",
        "  #insert new elementss in index 3\n",
        "n=int(input(\"enter elements to insert:\"))\n",
        "mylist.insert(3,n)\n",
        "print(\"list elements:\")\n",
        "print(\"length of list:\",len(mylist))\n",
        "list2=[8,9,4]\n",
        "mylist=mylist+list2\n",
        "print(\"elements of list:\",mylist)\n",
        "print(\"length of list:\",len(mylist))"
      ]
    }
  ]
}